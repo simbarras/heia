{
 "cells": [
  {
   "cell_type": "code",
   "execution_count": 4,
   "metadata": {},
   "outputs": [],
   "source": [
    "\n",
    "def myFun(arg1=\"a\", arg2=\"b\", arg3=\"c\"):\n",
    "    print(\"arg1:\", arg1)\n",
    "    print(\"arg2:\", arg2)\n",
    "    print(\"arg3:\", arg3)"
   ]
  },
  {
   "cell_type": "code",
   "execution_count": 8,
   "metadata": {},
   "outputs": [],
   "source": [
    "def anotherFun(args):\n",
    "    myFun(*args)"
   ]
  },
  {
   "cell_type": "code",
   "execution_count": 5,
   "metadata": {},
   "outputs": [
    {
     "name": "stdout",
     "output_type": "stream",
     "text": [
      "arg1: Geeks\n",
      "arg2: for\n",
      "arg3: Geeks\n"
     ]
    }
   ],
   "source": [
    "args = (\"Geeks\", \"for\", \"Geeks\")\n",
    "myFun(*args)"
   ]
  },
  {
   "cell_type": "code",
   "execution_count": 7,
   "metadata": {},
   "outputs": [
    {
     "name": "stdout",
     "output_type": "stream",
     "text": [
      "arg1: for\n",
      "arg2: Geeks\n",
      "arg3: c\n"
     ]
    }
   ],
   "source": [
    "args = {\"Geeks\", \"for\", \"Geeks\"}\n",
    "myFun(*args)"
   ]
  },
  {
   "cell_type": "code",
   "execution_count": 9,
   "metadata": {},
   "outputs": [
    {
     "name": "stdout",
     "output_type": "stream",
     "text": [
      "arg1: Geeks\n",
      "arg2: for\n",
      "arg3: Geeks\n"
     ]
    }
   ],
   "source": [
    "args = (\"Geeks\", \"for\", \"Geeks\")\n",
    "anotherFun(args)"
   ]
  },
  {
   "cell_type": "code",
   "execution_count": 11,
   "metadata": {},
   "outputs": [
    {
     "name": "stdout",
     "output_type": "stream",
     "text": [
      "arg1: for\n",
      "arg2: Geeks\n",
      "arg3: c\n"
     ]
    }
   ],
   "source": [
    "args = {\"Geeks\", \"for\", \"Geeks\"}\n",
    "anotherFun(args)"
   ]
  }
 ],
 "metadata": {
  "interpreter": {
   "hash": "63fd5069d213b44bf678585dea6b12cceca9941eaf7f819626cde1f2670de90d"
  },
  "kernelspec": {
   "display_name": "Python 3.9.5 64-bit",
   "name": "python3"
  },
  "language_info": {
   "codemirror_mode": {
    "name": "ipython",
    "version": 3
   },
   "file_extension": ".py",
   "mimetype": "text/x-python",
   "name": "python",
   "nbconvert_exporter": "python",
   "pygments_lexer": "ipython3",
   "version": "3.9.5"
  },
  "orig_nbformat": 4
 },
 "nbformat": 4,
 "nbformat_minor": 2
}
