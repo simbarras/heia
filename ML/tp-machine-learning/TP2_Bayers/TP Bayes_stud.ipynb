{
 "cells": [
  {
   "cell_type": "markdown",
   "metadata": {},
   "source": [
    "# TP Bayes"
   ]
  },
  {
   "cell_type": "markdown",
   "metadata": {},
   "source": [
    "## Imports"
   ]
  },
  {
   "cell_type": "code",
   "execution_count": 44,
   "metadata": {
    "collapsed": true
   },
   "outputs": [],
   "source": [
    "import matplotlib.pyplot as plt\n",
    "import numpy as np\n",
    "\n",
    "from sklearn import datasets\n",
    "from sklearn.model_selection import train_test_split\n",
    "from sklearn.metrics import accuracy_score\n",
    "from sklearn.naive_bayes import GaussianNB, BernoulliNB, MultinomialNB"
   ]
  },
  {
   "cell_type": "markdown",
   "metadata": {},
   "source": [
    "## Dataset\n",
    "* Load iris dataset.\n",
    "* Using the function cut() and numpy.concatenate(), unbalance the dataset (keep 100% of class 0, 50% of class 1, 33% of class 2)\n",
    "* Split in train/test."
   ]
  },
  {
   "cell_type": "code",
   "execution_count": 45,
   "metadata": {
    "collapsed": true
   },
   "outputs": [],
   "source": [
    "def cut(X, y, c, step):\n",
    "    return X[np.where(y[...]==c)][::step], y[y==c][::step]"
   ]
  },
  {
   "cell_type": "code",
   "execution_count": 46,
   "metadata": {
    "collapsed": true
   },
   "outputs": [
    {
     "name": "stdout",
     "output_type": "stream",
     "text": [
      "(50, 4) (50,)\n",
      "(25, 4) (25,)\n",
      "(17, 4) (17,)\n"
     ]
    }
   ],
   "source": [
    "dataset = datasets.load_iris()\n",
    "X_0, y_0 = cut(dataset.data, dataset.target, 0, 1)\n",
    "print(X_0.shape, y_0.shape)\n",
    "# try first what the previous line is doing, what is going to happen when changing the value of step\n",
    "X_1, y_1 = cut(dataset.data, dataset.target, 1, 2)  # 50%\n",
    "print(X_1.shape, y_1.shape)\n",
    "\n",
    "X_2, y_2 = cut(dataset.data, dataset.target, 2, 3)  # 33%\n",
    "print(X_2.shape, y_2.shape)\n",
    "\n",
    "X = np.concatenate((X_0, X_1, X_2), axis=0)\n",
    "y = np.concatenate((y_0, y_1, y_2), axis=0)"
   ]
  },
  {
   "cell_type": "code",
   "execution_count": 47,
   "metadata": {},
   "outputs": [],
   "source": [
    "X_train, X_test, y_train, y_test = train_test_split(X, y, test_size=0.2, random_state=42, stratify=y)"
   ]
  },
  {
   "cell_type": "markdown",
   "metadata": {},
   "source": [
    "# Summarize data"
   ]
  },
  {
   "cell_type": "markdown",
   "metadata": {},
   "source": [
    "### Separate data by class\n",
    "Analyse the following functions to separate data by class.\n",
    "\n",
    "What is the type of `class_data`? How to get the values for a given class?\n",
    "\n",
    "`class_data` is a dictionary"
   ]
  },
  {
   "cell_type": "code",
   "execution_count": 48,
   "metadata": {
    "collapsed": true
   },
   "outputs": [
    {
     "name": "stdout",
     "output_type": "stream",
     "text": [
      "<class 'dict'>\n",
      "{0: array([[4.8, 3.4, 1.6, 0.2],\n",
      "       [5.4, 3.9, 1.7, 0.4],\n",
      "       [4.9, 3.1, 1.5, 0.1],\n",
      "       [5.1, 3.4, 1.5, 0.2],\n",
      "       [5.3, 3.7, 1.5, 0.2],\n",
      "       [5.1, 3.8, 1.6, 0.2],\n",
      "       [4.6, 3.4, 1.4, 0.3],\n",
      "       [5.7, 4.4, 1.5, 0.4],\n",
      "       [4.7, 3.2, 1.6, 0.2],\n",
      "       [4.8, 3. , 1.4, 0.3],\n",
      "       [5. , 3.2, 1.2, 0.2],\n",
      "       [4.6, 3.2, 1.4, 0.2],\n",
      "       [4.9, 3.6, 1.4, 0.1],\n",
      "       [5.1, 3.8, 1.5, 0.3],\n",
      "       [5.4, 3.4, 1.5, 0.4],\n",
      "       [5.1, 3.5, 1.4, 0.2],\n",
      "       [4.7, 3.2, 1.3, 0.2],\n",
      "       [4.8, 3.1, 1.6, 0.2],\n",
      "       [4.4, 2.9, 1.4, 0.2],\n",
      "       [5.1, 3.8, 1.9, 0.4],\n",
      "       [5.4, 3.9, 1.3, 0.4],\n",
      "       [5. , 3.5, 1.3, 0.3],\n",
      "       [5. , 3.5, 1.6, 0.6],\n",
      "       [4.8, 3.4, 1.9, 0.2],\n",
      "       [4.9, 3. , 1.4, 0.2],\n",
      "       [5. , 3.6, 1.4, 0.2],\n",
      "       [5. , 3.4, 1.6, 0.4],\n",
      "       [5.2, 3.5, 1.5, 0.2],\n",
      "       [5.1, 3.3, 1.7, 0.5],\n",
      "       [5.1, 3.5, 1.4, 0.3],\n",
      "       [5.5, 3.5, 1.3, 0.2],\n",
      "       [5.1, 3.7, 1.5, 0.4],\n",
      "       [4.5, 2.3, 1.3, 0.3],\n",
      "       [4.8, 3. , 1.4, 0.1],\n",
      "       [4.9, 3.1, 1.5, 0.2],\n",
      "       [5. , 3. , 1.6, 0.2],\n",
      "       [4.3, 3. , 1.1, 0.1],\n",
      "       [5.2, 4.1, 1.5, 0.1],\n",
      "       [4.6, 3.1, 1.5, 0.2],\n",
      "       [5.5, 4.2, 1.4, 0.2]]), 1: array([[5. , 2. , 3.5, 1. ],\n",
      "       [5.9, 3.2, 4.8, 1.8],\n",
      "       [6.6, 2.9, 4.6, 1.3],\n",
      "       [6.3, 3.3, 4.7, 1.6],\n",
      "       [6.7, 3.1, 4.7, 1.5],\n",
      "       [6.4, 2.9, 4.3, 1.3],\n",
      "       [5.8, 2.6, 4. , 1.2],\n",
      "       [6.2, 2.2, 4.5, 1.5],\n",
      "       [6.8, 2.8, 4.8, 1.4],\n",
      "       [7. , 3.2, 4.7, 1.4],\n",
      "       [5.6, 2.7, 4.2, 1.3],\n",
      "       [5.7, 2.9, 4.2, 1.3],\n",
      "       [6.5, 2.8, 4.6, 1.5],\n",
      "       [6.3, 2.5, 4.9, 1.5],\n",
      "       [5.8, 2.7, 3.9, 1.2],\n",
      "       [5.6, 2.9, 3.6, 1.3],\n",
      "       [5.4, 3. , 4.5, 1.5],\n",
      "       [5.1, 2.5, 3. , 1.1],\n",
      "       [5.5, 2.4, 3.8, 1.1],\n",
      "       [6. , 2.2, 4. , 1. ]]), 2: array([[7.7, 2.6, 6.9, 2.3],\n",
      "       [4.9, 2.5, 4.5, 1.7],\n",
      "       [6.2, 3.4, 5.4, 2.3],\n",
      "       [6.3, 3.3, 6. , 2.5],\n",
      "       [7.2, 3.6, 6.1, 2.5],\n",
      "       [6.7, 3.3, 5.7, 2.1],\n",
      "       [6.7, 3. , 5.2, 2.3],\n",
      "       [6.3, 3.4, 5.6, 2.4],\n",
      "       [5.8, 2.7, 5.1, 1.9],\n",
      "       [5.6, 2.8, 4.9, 2. ],\n",
      "       [6.8, 3. , 5.5, 2.1],\n",
      "       [6.4, 3.2, 5.3, 2.3],\n",
      "       [7.4, 2.8, 6.1, 1.9]])}\n"
     ]
    }
   ],
   "source": [
    "def separateByClass(X, y):\n",
    "    return {c: cut(X, y, c, 1)[0] for c in np.unique(y)}\n",
    "\n",
    "class_data = separateByClass(X_train, y_train)\n",
    "print(type(class_data))\n",
    "print(class_data)"
   ]
  },
  {
   "cell_type": "markdown",
   "metadata": {},
   "source": [
    "### Summarize dataset\n",
    "For each classes, calculate the mean and the standard deviation for each features.\n",
    "Store it in a structure like this:\n",
    "\n",
    "    {\n",
    "        class: [(mean 1st feature, std 1st feature), (mean 2nd feature, std 2nd feature), ...],\n",
    "        class: [...],\n",
    "        ...\n",
    "    }"
   ]
  },
  {
   "cell_type": "code",
   "execution_count": 49,
   "metadata": {
    "collapsed": true
   },
   "outputs": [
    {
     "name": "stdout",
     "output_type": "stream",
     "text": [
      "{0: [(4.985000000000001, 0.3045898882103607), (3.4150000000000005, 0.3940494892776794), (1.4774999999999998, 0.15888281845435648), (0.255, 0.11390785749894516)], 1: [(6.01, 0.5494542747126462), (2.74, 0.3484250278036869), (4.265, 0.5002749244165652), (1.3400000000000003, 0.2009975124224178)], 2: [(6.461538461538463, 0.7301616907744176), (3.0461538461538464, 0.33423939972923733), (5.561538461538461, 0.5942525512562451), (2.176923076923077, 0.23908108104492387)]}\n"
     ]
    }
   ],
   "source": [
    "def summarize(X):\n",
    "    return [(np.mean(X[:, i]), np.std(X[:, i])) for i in range(X.shape[1])]\n",
    "\n",
    "def summarizeByClass(X, y):\n",
    "    return {c: summarize(X[np.where(y==c)]) for c in np.unique(y)}\n",
    "\n",
    "summary = summarizeByClass(X_train, y_train)\n",
    "print(summary)"
   ]
  },
  {
   "cell_type": "markdown",
   "metadata": {},
   "source": [
    "## Prediction\n",
    "To make a prediction, we need to calculate the probability that a given sample belong to each class, and select the class with the highest probability."
   ]
  },
  {
   "cell_type": "markdown",
   "metadata": {},
   "source": [
    "### Compute likelihoods\n",
    "Use the formula of the Univariate Gaussian distribution presented in the slides, and create a function to estimate the probability."
   ]
  },
  {
   "cell_type": "code",
   "execution_count": 50,
   "metadata": {
    "collapsed": true
   },
   "outputs": [],
   "source": [
    "import math\n",
    "def computeProbability(x, mean, std):\n",
    "    return (1 / (np.sqrt(2 * np.pi) * std)) * np.exp(-((x - mean) ** 2 / (2 * std ** 2)))"
   ]
  },
  {
   "cell_type": "code",
   "execution_count": 51,
   "metadata": {
    "collapsed": true
   },
   "outputs": [
    {
     "name": "stdout",
     "output_type": "stream",
     "text": [
      "0.3989422804014327\n"
     ]
    }
   ],
   "source": [
    "# Verify your probability function\n",
    "x = 10\n",
    "mean = 10\n",
    "stdev = 1\n",
    "probability = computeProbability(x, mean, stdev)\n",
    "print(probability) # Should be 0.3989422804014327"
   ]
  },
  {
   "cell_type": "markdown",
   "metadata": {},
   "source": [
    "**Q1:** What other methods could you use to compute a probability estimation?\n",
    "\n",
    "We could compute a probability estimation using an histogram estimator."
   ]
  },
  {
   "cell_type": "markdown",
   "metadata": {},
   "source": [
    "### Compute priors"
   ]
  },
  {
   "cell_type": "code",
   "execution_count": 52,
   "metadata": {
    "collapsed": true
   },
   "outputs": [
    {
     "name": "stdout",
     "output_type": "stream",
     "text": [
      "{0: 0.547945205479452, 1: 0.273972602739726, 2: 0.1780821917808219}\n"
     ]
    }
   ],
   "source": [
    "def computePriors(y):\n",
    "    return {c: len(y[y==c]) / len(y) for c in np.unique(y)}\n",
    "\n",
    "priors = computePriors(y_train)\n",
    "print(priors)"
   ]
  },
  {
   "cell_type": "markdown",
   "metadata": {},
   "source": [
    "### Compute posteriors"
   ]
  },
  {
   "cell_type": "code",
   "execution_count": 53,
   "metadata": {
    "collapsed": true
   },
   "outputs": [],
   "source": [
    "def computePosteriors(sample, summaries):\n",
    "    posteriors = {}\n",
    "    for c in summaries:\n",
    "        posteriors[c] = 1\n",
    "        for i in range(len(summaries[c])):\n",
    "            mean, std = summaries[c][i]\n",
    "            x = sample[i]\n",
    "            posteriors[c] *= computeProbability(x, mean, std)\n",
    "    return posteriors"
   ]
  },
  {
   "cell_type": "markdown",
   "metadata": {},
   "source": [
    "### Use posteriors to take decisions about best classes"
   ]
  },
  {
   "cell_type": "code",
   "execution_count": 54,
   "metadata": {},
   "outputs": [],
   "source": [
    "def predictSample(sample, summaries):\n",
    "    posteriors = computePosteriors(sample, summaries)\n",
    "    best_class, best_prob = None, -1\n",
    "    for c in posteriors:\n",
    "        if best_class is None or posteriors[c] > best_prob:\n",
    "            best_prob = posteriors[c]\n",
    "            best_class = c\n",
    "    return best_class"
   ]
  },
  {
   "cell_type": "markdown",
   "metadata": {},
   "source": [
    "## Test\n",
    "Compute the accuracy of your classifier applied to your test set."
   ]
  },
  {
   "cell_type": "code",
   "execution_count": 55,
   "metadata": {
    "collapsed": true,
    "scrolled": true
   },
   "outputs": [
    {
     "name": "stdout",
     "output_type": "stream",
     "text": [
      "0.9473684210526315\n"
     ]
    }
   ],
   "source": [
    "def predict(X, summaries):\n",
    "    return np.array([predictSample(sample, summaries) for sample in X])\n",
    "\n",
    "y_pred = predict(X_test, summary)\n",
    "print(accuracy_score(y_test, y_pred))"
   ]
  },
  {
   "cell_type": "markdown",
   "metadata": {},
   "source": [
    "### Optional: use cross-validation"
   ]
  },
  {
   "cell_type": "code",
   "execution_count": 56,
   "metadata": {
    "collapsed": true
   },
   "outputs": [
    {
     "name": "stdout",
     "output_type": "stream",
     "text": [
      "[0.89473684 1.         0.94444444 0.94444444 1.        ]\n"
     ]
    }
   ],
   "source": [
    "from sklearn.model_selection import cross_val_score\n",
    "\n",
    "scores = cross_val_score(GaussianNB(), X, y, cv=5)\n",
    "print(scores)"
   ]
  },
  {
   "cell_type": "markdown",
   "metadata": {},
   "source": [
    "### Use the scikit-learn Gaussian Naive Bayes implementation and compare the results"
   ]
  },
  {
   "cell_type": "code",
   "execution_count": 57,
   "metadata": {
    "collapsed": true
   },
   "outputs": [
    {
     "name": "stdout",
     "output_type": "stream",
     "text": [
      "0.9473684210526315\n"
     ]
    }
   ],
   "source": [
    "gnb = GaussianNB()\n",
    "y_pred = gnb.fit(X_train, y_train).predict(X_test)\n",
    "print(accuracy_score(y_test, y_pred))"
   ]
  },
  {
   "cell_type": "markdown",
   "metadata": {},
   "source": [
    "## Plot the distribution\n",
    "For each class, and for each feature, plot the histogram of the data."
   ]
  },
  {
   "cell_type": "code",
   "execution_count": 58,
   "metadata": {
    "collapsed": true
   },
   "outputs": [
    {
     "data": {
      "text/plain": "<Figure size 640x480 with 1 Axes>",
      "image/png": "[encoded data removed]"
     },
     "metadata": {},
     "output_type": "display_data"
    },
    {
     "data": {
      "text/plain": "<Figure size 640x480 with 1 Axes>",
      "image/png": "[encoded data removed]"
     },
     "metadata": {},
     "output_type": "display_data"
    },
    {
     "data": {
      "text/plain": "<Figure size 640x480 with 1 Axes>",
      "image/png": "[encoded data removed]"
     },
     "metadata": {},
     "output_type": "display_data"
    }
   ],
   "source": [
    "def plot_histograms(X, y):\n",
    "    for c in np.unique(y):\n",
    "        for i in range(X.shape[1]):\n",
    "            plt.hist(X[np.where(y==c)][:, i], label=c)\n",
    "        plt.legend()\n",
    "        plt.show()\n",
    "\n",
    "plot_histograms(X, y)"
   ]
  },
  {
   "cell_type": "markdown",
   "metadata": {},
   "source": [
    "Based on the histograms, find which feature you think have the most Gaussian distribution.\n",
    "\n",
    "Do the classification with only one feature (for each features).\n",
    "\n",
    "Verify if the feature you chose is the one that gives you the best result."
   ]
  },
  {
   "cell_type": "code",
   "execution_count": 59,
   "metadata": {
    "collapsed": true
   },
   "outputs": [
    {
     "name": "stdout",
     "output_type": "stream",
     "text": [
      "2\n"
     ]
    }
   ],
   "source": [
    "def find_best_feature(X, y):\n",
    "    best_feature = None\n",
    "    best_score = -1\n",
    "    for i in range(X.shape[1]):\n",
    "        score = np.mean(np.abs(np.diff(np.sort(X[:, i]))))\n",
    "        if score > best_score:\n",
    "            best_score = score\n",
    "            best_feature = i\n",
    "    return best_feature\n",
    "\n",
    "print(find_best_feature(X, y))"
   ]
  },
  {
   "cell_type": "code",
   "execution_count": 79,
   "outputs": [
    {
     "name": "stdout",
     "output_type": "stream",
     "text": [
      "0.9473684210526315\n"
     ]
    }
   ],
   "source": [
    "X_2 = X[:, 2].reshape(-1, 1)\n",
    "X_train, X_test, y_train, y_test = train_test_split(X_2, y, test_size=0.2, random_state=42, stratify=y)\n",
    "\n",
    "gnb = GaussianNB()\n",
    "y_pred = gnb.fit(X_train, y_train).predict(X_test)\n",
    "print(accuracy_score(y_test, y_pred))"
   ],
   "metadata": {
    "collapsed": false
   }
  },
  {
   "cell_type": "markdown",
   "metadata": {},
   "source": [
    "**Q2:** What happens if the distribution is not Gaussian at all? What would you do in this situation?\n",
    "\n",
    "Les résultats globaux seront impactés car Bayes dépend directement de cette distribution. Pour améliorer les résultats en gardant ces données, nous pourrions les normalisées autours du point moyens."
   ]
  },
  {
   "cell_type": "markdown",
   "metadata": {},
   "source": [
    "## Optional: Use histograms as likelihood estimator\n",
    "\n",
    "Try to replace the univariate gaussian with a solution based on histograms (see https://docs.scipy.org/doc/numpy-1.13.0/reference/generated/numpy.histogram.html) in order to estimate the likelihood. Compare your results.\n"
   ]
  },
  {
   "cell_type": "markdown",
   "source": [
    "Conclusion and observations\n",
    "\n",
    "Les features 3 et 4 sont celles qui donnent les meilleures résultats et la 3ème a la meilleure distribution gaussienne.\n"
   ],
   "metadata": {
    "collapsed": false
   }
  }
 ],
 "metadata": {
  "kernelspec": {
   "display_name": "Python 3.9.12 64-bit",
   "language": "python",
   "name": "python3"
  },
  "language_info": {
   "codemirror_mode": {
    "name": "ipython",
    "version": 3
   },
   "file_extension": ".py",
   "mimetype": "text/x-python",
   "name": "python",
   "nbconvert_exporter": "python",
   "pygments_lexer": "ipython3",
   "version": "3.9.12"
  },
  "vscode": {
   "interpreter": {
    "hash": "81794d4967e6c3204c66dcd87b604927b115b27c00565d3d43f05ba2f3a2cb0d"
   }
  }
 },
 "nbformat": 4,
 "nbformat_minor": 1
}
